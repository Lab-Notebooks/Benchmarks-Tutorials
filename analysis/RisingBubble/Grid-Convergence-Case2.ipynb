{
 "cells": [
  {
   "cell_type": "code",
   "execution_count": 1,
   "id": "33173f1a",
   "metadata": {},
   "outputs": [],
   "source": [
    "import os\n",
    "import itertools\n",
    "from types import SimpleNamespace\n",
    "import numpy\n",
    "import matplotlib.pyplot as pyplot\n",
    "from scipy.interpolate import make_interp_spline\n",
    "from shapely import geometry\n",
    "import LocalModule\n",
    "import boxkit"
   ]
  },
  {
   "cell_type": "code",
   "execution_count": 2,
   "id": "116e15fa",
   "metadata": {},
   "outputs": [],
   "source": [
    "DsetDirs, FileTags = LocalModule.case2_grid_convergence_dict()\n",
    "Datasets = {}\n",
    "for key in DsetDirs:\n",
    "    Datasets[key] = LocalModule.read_datasets(DsetDirs[key], FileTags[key])"
   ]
  },
  {
   "cell_type": "code",
   "execution_count": 3,
   "id": "2921c8f8",
   "metadata": {},
   "outputs": [],
   "source": [
    "Blocks = {}\n",
    "for key in Datasets:\n",
    "    Blocks[key] = boxkit.mergeblocks(Datasets[key][0], [\"dfun\", \"velx\", \"vely\"]).blocklist[0]\n",
    "\n",
    "GridScale = {\"Case2/h40\" : 1, \"Case2/h80\" : 2, \"Case2/h160\" : 4, \"Case2/h320\" : 8}\n",
    "\n",
    "block = Blocks[\"Case2/h40\"]\n",
    "MeshCoarseX, MeshCoarseY = numpy.meshgrid(block.xrange(\"center\")[block.xguard:block.nxb+block.xguard], \n",
    "                                          block.yrange(\"center\")[block.yguard:block.nyb+block.yguard])\n",
    "\n",
    "for block, scale in zip(list(Blocks.values())[1:], list(GridScale.values())[1:]):\n",
    "    xmesh, ymesh = numpy.meshgrid(block.xrange(\"center\")[block.xguard:block.nxb+block.xguard], \n",
    "                                  block.yrange(\"center\")[block.yguard:block.nyb+block.yguard])\n",
    "    \n",
    "    MeshFineX, MeshFineY = [0., 0.]\n",
    "    \n",
    "    for yoff in range(scale):\n",
    "        for xoff in range(scale):\n",
    "            MeshFineX = MeshFineX + xmesh[yoff::scale,xoff::scale]/(scale**2)\n",
    "            MeshFineY = MeshFineY + ymesh[yoff::scale,xoff::scale]/(scale**2)\n",
    "    \n",
    "    if not (numpy.abs(MeshFineX-MeshCoarseX) < 1e-13).all():\n",
    "        print(f\"{scale} MeshX mismatch\")\n",
    "    if not (numpy.abs(MeshFineY-MeshCoarseY) < 1e-13).all():\n",
    "        print(f\"{scale} MeshY mismatch\")"
   ]
  },
  {
   "cell_type": "code",
   "execution_count": 4,
   "id": "4a33d068",
   "metadata": {},
   "outputs": [],
   "source": [
    "GridReference = {}\n",
    "\n",
    "scale = GridScale[\"Case2/h320\"]\n",
    "block = Blocks[\"Case2/h320\"]\n",
    "offset = int(scale/2)\n",
    "\n",
    "for var in [\"dfun\", \"velx\", \"vely\"]:\n",
    "    \n",
    "    WorkData = block[var][0,block.yguard:block.nyb+block.yguard,\n",
    "                            block.xguard:block.nxb+block.xguard]\n",
    "    GridReference[var] = 0.\n",
    "    for yoff in range(scale):\n",
    "        for xoff in range(scale):\n",
    "            GridReference[var] = GridReference[var] + WorkData[yoff::scale,xoff::scale]/(scale**2)\n",
    "\n",
    "Error = []\n",
    "\n",
    "for block, scale in zip(list(Blocks.values())[:-1], list(GridScale.values())[:-1]):\n",
    "    \n",
    "    GridData = {}\n",
    "    BlockError = {}\n",
    "    \n",
    "    for var in [\"dfun\", \"velx\", \"vely\"]:\n",
    "        WorkData = block[var][0,block.yguard:block.nyb+block.yguard,\n",
    "                                block.xguard:block.nxb+block.xguard]\n",
    "        \n",
    "        if scale == 1:\n",
    "            GridData[var] = WorkData\n",
    "        else:\n",
    "            \n",
    "            GridData[var] = 0.       \n",
    "            \n",
    "            for yoff in range(scale):\n",
    "                for xoff in range(scale):\n",
    "                    GridData[var] = GridData[var] + WorkData[yoff::scale,xoff::scale]/(scale**2)\n",
    "        \n",
    "        BlockError[var] = numpy.max(numpy.abs(GridReference[var]-GridData[var]))\n",
    "        \n",
    "    Error.append(BlockError)"
   ]
  },
  {
   "cell_type": "code",
   "execution_count": 5,
   "id": "5c3195dc",
   "metadata": {},
   "outputs": [
    {
     "data": {
      "text/plain": [
       "[{'dfun': 0.11740511722563796,\n",
       "  'velx': 0.23098055644395799,\n",
       "  'vely': 0.3935689148356676},\n",
       " {'dfun': 0.07918093646452005,\n",
       "  'velx': 0.1603827254987454,\n",
       "  'vely': 0.3167824797273682},\n",
       " {'dfun': 0.030509918815824502,\n",
       "  'velx': 0.13901148913688532,\n",
       "  'vely': 0.2725374002064569}]"
      ]
     },
     "execution_count": 5,
     "metadata": {},
     "output_type": "execute_result"
    }
   ],
   "source": [
    "Error"
   ]
  }
 ],
 "metadata": {
  "kernelspec": {
   "display_name": "Python 3 (ipykernel)",
   "language": "python",
   "name": "python3"
  },
  "language_info": {
   "codemirror_mode": {
    "name": "ipython",
    "version": 3
   },
   "file_extension": ".py",
   "mimetype": "text/x-python",
   "name": "python",
   "nbconvert_exporter": "python",
   "pygments_lexer": "ipython3",
   "version": "3.11.5"
  }
 },
 "nbformat": 4,
 "nbformat_minor": 5
}
