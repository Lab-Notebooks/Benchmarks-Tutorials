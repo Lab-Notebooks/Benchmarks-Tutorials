{
 "cells": [
  {
   "cell_type": "code",
   "execution_count": 1,
   "id": "79a25755",
   "metadata": {},
   "outputs": [],
   "source": [
    "import os\n",
    "import itertools\n",
    "from types import SimpleNamespace\n",
    "import numpy\n",
    "import matplotlib.pyplot as pyplot\n",
    "from scipy.interpolate import make_interp_spline\n",
    "from shapely import geometry\n",
    "import LocalModule\n",
    "import boxkit"
   ]
  },
  {
   "cell_type": "code",
   "execution_count": 2,
   "id": "19fd7686",
   "metadata": {},
   "outputs": [],
   "source": [
    "DsetDirs, FileTags = LocalModule.case2_time_convergence_dict()\n",
    "Results = dict()\n",
    "for key in DsetDirs:\n",
    "    Datasets = LocalModule.read_datasets(DsetDirs[key], FileTags[key])\n",
    "    Results[key] = numpy.array([LocalModule.process_dataset(Dataset) for Dataset in Datasets])\n",
    "    \n",
    "Indices=[]\n",
    "for time in Results[\"Case2/h40\"][:,0]:\n",
    "    Indices += list(numpy.where(abs(Results[\"Case2/h320\"][:,0]-time)<1e-4)[0])"
   ]
  },
  {
   "cell_type": "code",
   "execution_count": 3,
   "id": "ec95ca9d",
   "metadata": {},
   "outputs": [
    {
     "data": {
      "text/plain": [
       "array([0.        , 0.10000078, 0.20000078, 0.3       , 0.4       ,\n",
       "       0.5       , 0.6       , 0.7       , 0.8       , 0.9       ,\n",
       "       1.        , 1.1       , 1.2       , 1.3       , 1.4       ,\n",
       "       1.5       , 1.6       , 1.7       , 1.8       , 1.9       ,\n",
       "       2.        , 2.1       , 2.2       , 2.30000078, 2.40000078,\n",
       "       2.50000078, 2.60000078, 2.70000078, 2.80000078, 2.90000078,\n",
       "       3.00000078, 3.10000078, 3.20000078, 3.30000078, 3.40000078,\n",
       "       3.50000078, 3.60000078, 3.70000078, 3.80000078, 3.90000078])"
      ]
     },
     "execution_count": 3,
     "metadata": {},
     "output_type": "execute_result"
    }
   ],
   "source": [
    "Results[\"Case2/h320\"][Indices,0]"
   ]
  },
  {
   "cell_type": "code",
   "execution_count": 4,
   "id": "b4c24d3f",
   "metadata": {},
   "outputs": [],
   "source": [
    "ErrorInf = {}\n",
    "ErrorL2 = {}\n",
    "ErrorL1 = {}\n",
    "\n",
    "ErrorInf[\"Case2/h40\"] = numpy.max(numpy.abs((Results[\"Case2/h320\"][Indices,:]-Results[\"Case2/h40\"])), axis=0)\n",
    "ErrorInf[\"Case2/h80\"] = numpy.max(numpy.abs((Results[\"Case2/h320\"][Indices,:]-Results[\"Case2/h80\"])), axis=0)\n",
    "ErrorInf[\"Case2/h160\"] = numpy.max(numpy.abs((Results[\"Case2/h320\"][Indices,:]-Results[\"Case2/h160\"])), axis=0)\n",
    "\n",
    "ErrorL2[\"Case2/h40\"] = numpy.sqrt(numpy.sum((Results[\"Case2/h320\"][Indices,:]-Results[\"Case2/h40\"])**2, axis=0))\n",
    "ErrorL2[\"Case2/h80\"] = numpy.sqrt(numpy.sum((Results[\"Case2/h320\"][Indices,:]-Results[\"Case2/h80\"])**2, axis=0))\n",
    "ErrorL2[\"Case2/h160\"] = numpy.sqrt(numpy.sum((Results[\"Case2/h320\"][Indices,:]-Results[\"Case2/h160\"])**2, axis=0))\n",
    "\n",
    "ErrorL1[\"Case2/h40\"] = numpy.sum(numpy.abs(Results[\"Case2/h320\"][Indices,:]-Results[\"Case2/h40\"]), axis=0)\n",
    "ErrorL1[\"Case2/h80\"] = numpy.sum(numpy.abs(Results[\"Case2/h320\"][Indices,:]-Results[\"Case2/h80\"]), axis=0)\n",
    "ErrorL1[\"Case2/h160\"] =numpy.sum(numpy.abs(Results[\"Case2/h320\"][Indices,:]-Results[\"Case2/h160\"]), axis=0)\n",
    "\n",
    "# for key in [\"Case2/h40\", \"Case2/h80\", \"Case2/h160\"]:\n",
    "#     Error[key] = numpy.zeros([5,1], dtype=float)\n",
    "    \n",
    "#     for var in range(5):\n",
    "#         for i in range (len(Results[key])):\n",
    "#             Error[key][var] = Error[key][var] + (Results[key][i,var]-Results[\"Case2/h320\"][i,var])**2"
   ]
  },
  {
   "cell_type": "code",
   "execution_count": 5,
   "id": "67e63841",
   "metadata": {},
   "outputs": [
    {
     "name": "stdout",
     "output_type": "stream",
     "text": [
      "[2.00000122 1.154996   0.11290953 0.60642391 0.36086309]\n",
      "[1.99999942 1.41965413 2.09633986 1.14901108 1.36321143]\n"
     ]
    }
   ],
   "source": [
    "print(numpy.log10(ErrorInf[\"Case2/h40\"]/ErrorInf[\"Case2/h80\"])/numpy.log10(2))\n",
    "print(numpy.log10(ErrorInf[\"Case2/h80\"]/ErrorInf[\"Case2/h160\"])/numpy.log10(2))"
   ]
  },
  {
   "cell_type": "code",
   "execution_count": 6,
   "id": "45b0563d",
   "metadata": {},
   "outputs": [
    {
     "name": "stdout",
     "output_type": "stream",
     "text": [
      "[1.68903605 1.19325367 0.76669934 0.58792096 0.44836991]\n",
      "[2.85519908 1.49459142 1.34185048 1.38564308 1.2849791 ]\n"
     ]
    }
   ],
   "source": [
    "print(numpy.log10(ErrorL2[\"Case2/h40\"]/ErrorL2[\"Case2/h80\"])/numpy.log10(2))\n",
    "print(numpy.log10(ErrorL2[\"Case2/h80\"]/ErrorL2[\"Case2/h160\"])/numpy.log10(2))"
   ]
  },
  {
   "cell_type": "code",
   "execution_count": 7,
   "id": "48f80f5b",
   "metadata": {},
   "outputs": [
    {
     "name": "stdout",
     "output_type": "stream",
     "text": [
      "[1.34860349 1.09861279 0.77839384 0.64434036 0.57720097]\n",
      "[3.30842722 1.54403224 1.23879209 1.42714006 1.33172547]\n"
     ]
    }
   ],
   "source": [
    "print(numpy.log10(ErrorL1[\"Case2/h40\"]/ErrorL1[\"Case2/h80\"])/numpy.log10(2))\n",
    "print(numpy.log10(ErrorL1[\"Case2/h80\"]/ErrorL1[\"Case2/h160\"])/numpy.log10(2))"
   ]
  }
 ],
 "metadata": {
  "kernelspec": {
   "display_name": "Python 3 (ipykernel)",
   "language": "python",
   "name": "python3"
  },
  "language_info": {
   "codemirror_mode": {
    "name": "ipython",
    "version": 3
   },
   "file_extension": ".py",
   "mimetype": "text/x-python",
   "name": "python",
   "nbconvert_exporter": "python",
   "pygments_lexer": "ipython3",
   "version": "3.11.5"
  }
 },
 "nbformat": 4,
 "nbformat_minor": 5
}
