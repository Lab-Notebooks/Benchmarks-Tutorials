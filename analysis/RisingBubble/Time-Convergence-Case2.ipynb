{
 "cells": [
  {
   "cell_type": "code",
   "execution_count": 1,
   "id": "79a25755",
   "metadata": {},
   "outputs": [],
   "source": [
    "import os\n",
    "import itertools\n",
    "from types import SimpleNamespace\n",
    "import numpy\n",
    "import matplotlib.pyplot as pyplot\n",
    "from scipy.interpolate import make_interp_spline\n",
    "from shapely import geometry\n",
    "import LocalModule\n",
    "import boxkit"
   ]
  },
  {
   "cell_type": "code",
   "execution_count": 2,
   "id": "19fd7686",
   "metadata": {},
   "outputs": [],
   "source": [
    "DsetDirs, FileTags = LocalModule.case2_time_convergence_dict()\n",
    "Results = dict()\n",
    "for key in DsetDirs:\n",
    "    Datasets = LocalModule.read_datasets(DsetDirs[key], FileTags[key])\n",
    "    Results[key] = numpy.array([LocalModule.process_dataset(Dataset) for Dataset in Datasets])\n",
    "    \n",
    "Indices=[]\n",
    "for time in Results[\"Case2/h40\"][:,0]:\n",
    "    Indices += list(numpy.where(abs(Results[\"Case2/h320\"][:,0]-time)<1e-4)[0])"
   ]
  },
  {
   "cell_type": "code",
   "execution_count": 3,
   "id": "ec95ca9d",
   "metadata": {},
   "outputs": [
    {
     "data": {
      "text/plain": [
       "array([0.        , 0.10000078, 0.20000078, 0.3       , 0.4       ,\n",
       "       0.5       , 0.6       , 0.7       , 0.8       , 0.9       ,\n",
       "       1.        , 1.1       , 1.2       , 1.3       , 1.4       ,\n",
       "       1.5       , 1.6       , 1.7       , 1.8       , 1.9       ,\n",
       "       2.        , 2.1       , 2.2       , 2.30000078, 2.40000078,\n",
       "       2.50000078, 2.60000078, 2.70000078, 2.80000078, 2.90000078,\n",
       "       3.00000078, 3.10000078, 3.20000078, 3.30000078, 3.40000078,\n",
       "       3.50000078, 3.60000078, 3.70000078, 3.80000078, 3.90000078,\n",
       "       4.00000078, 4.10000078, 4.20000078, 4.30000078, 4.40000078,\n",
       "       4.50000078, 4.60000078, 4.70000078, 4.80000078, 4.90000078,\n",
       "       5.00000078])"
      ]
     },
     "execution_count": 3,
     "metadata": {},
     "output_type": "execute_result"
    }
   ],
   "source": [
    "Results[\"Case2/h320\"][Indices,0]"
   ]
  },
  {
   "cell_type": "code",
   "execution_count": 4,
   "id": "b4c24d3f",
   "metadata": {},
   "outputs": [],
   "source": [
    "Error = {}\n",
    "\n",
    "Error[\"Case2/h40\"] = numpy.abs((Results[\"Case2/h320\"][Indices,:]-Results[\"Case2/h40\"]))\n",
    "Error[\"Case2/h80\"] = numpy.abs((Results[\"Case2/h320\"][Indices,:]-Results[\"Case2/h80\"]))\n",
    "Error[\"Case2/h160\"] = numpy.abs((Results[\"Case2/h320\"][Indices,:]-Results[\"Case2/h160\"]))\n",
    "\n",
    "# for key in [\"Case2/h40\", \"Case2/h80\", \"Case2/h160\"]:\n",
    "#     Error[key] = numpy.zeros([5,1], dtype=float)\n",
    "    \n",
    "#     for var in range(5):\n",
    "#         for i in range (len(Results[key])):\n",
    "#             Error[key][var] = Error[key][var] + (Results[key][i,var]-Results[\"Case2/h320\"][i,var])**2"
   ]
  },
  {
   "cell_type": "code",
   "execution_count": 5,
   "id": "97297771",
   "metadata": {},
   "outputs": [
    {
     "data": {
      "text/plain": [
       "array([4.99999988e-05, 1.58906250e-01, 1.77214783e-01, 1.17361634e-01,\n",
       "       7.30191644e-02])"
      ]
     },
     "execution_count": 5,
     "metadata": {},
     "output_type": "execute_result"
    }
   ],
   "source": [
    "numpy.max(Error[\"Case2/h40\"], axis=0)"
   ]
  },
  {
   "cell_type": "code",
   "execution_count": 6,
   "id": "9399568b",
   "metadata": {},
   "outputs": [
    {
     "data": {
      "text/plain": [
       "array([1.24999891e-05, 8.71875000e-02, 1.87229997e-01, 1.21283000e-01,\n",
       "       5.68599202e-02])"
      ]
     },
     "execution_count": 6,
     "metadata": {},
     "output_type": "execute_result"
    }
   ],
   "source": [
    "numpy.max(Error[\"Case2/h80\"], axis=0)"
   ]
  },
  {
   "cell_type": "code",
   "execution_count": 7,
   "id": "b63e8f07",
   "metadata": {},
   "outputs": [
    {
     "data": {
      "text/plain": [
       "array([3.12499854e-06, 4.39062500e-02, 1.64412953e-01, 9.06417935e-02,\n",
       "       3.15973831e-02])"
      ]
     },
     "execution_count": 7,
     "metadata": {},
     "output_type": "execute_result"
    }
   ],
   "source": [
    "numpy.max(Error[\"Case2/h160\"], axis=0)"
   ]
  }
 ],
 "metadata": {
  "kernelspec": {
   "display_name": "Python 3 (ipykernel)",
   "language": "python",
   "name": "python3"
  },
  "language_info": {
   "codemirror_mode": {
    "name": "ipython",
    "version": 3
   },
   "file_extension": ".py",
   "mimetype": "text/x-python",
   "name": "python",
   "nbconvert_exporter": "python",
   "pygments_lexer": "ipython3",
   "version": "3.11.5"
  }
 },
 "nbformat": 4,
 "nbformat_minor": 5
}
