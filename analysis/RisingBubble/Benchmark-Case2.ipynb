{
 "cells": [
  {
   "cell_type": "code",
   "execution_count": 3,
   "id": "96c08ccf",
   "metadata": {},
   "outputs": [],
   "source": [
    "import os\n",
    "from types import SimpleNamespace\n",
    "import boxkit"
   ]
  },
  {
   "cell_type": "code",
   "execution_count": 4,
   "id": "9180bcc2",
   "metadata": {},
   "outputs": [],
   "source": [
    "# Create an empty dictionary to store dataset directories\n",
    "dsetDir = dict()\n",
    "\n",
    "# Store dataset directory paths\n",
    "dsetDir[\"Case2_h40\"] = \"../../simulation/RisingBubble/Benchmark/Case2/h40/jobnode.archive/2023-11-06\"\n",
    "dsetDir[\"Case2_h80\"] = \"../../simulation/RisingBubble/Benchmark/Case2/h80/jobnode.archive/2023-11-06\"\n",
    "dsetDir[\"Case2_h160\"] = \"../../simulation/RisingBubble/Benchmark/Case2/h160/jobnode.archive/2023-11-07\"\n",
    "dsetDir[\"Case2_h320\"] = \"../../simulation/RisingBubble/Benchmark/Case2/h320/jobnode.archive/2023-11-11\""
   ]
  },
  {
   "cell_type": "code",
   "execution_count": null,
   "id": "0e9829e3",
   "metadata": {},
   "outputs": [],
   "source": [
    "dataset = boxkit.read_dataset(os.path.join(dsetDir[\"Case2-h320\"], \"\"))"
   ]
  }
 ],
 "metadata": {
  "kernelspec": {
   "display_name": "Python 3 (ipykernel)",
   "language": "python",
   "name": "python3"
  },
  "language_info": {
   "codemirror_mode": {
    "name": "ipython",
    "version": 3
   },
   "file_extension": ".py",
   "mimetype": "text/x-python",
   "name": "python",
   "nbconvert_exporter": "python",
   "pygments_lexer": "ipython3",
   "version": "3.11.5"
  }
 },
 "nbformat": 4,
 "nbformat_minor": 5
}
