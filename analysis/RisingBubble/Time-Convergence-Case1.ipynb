{
 "cells": [
  {
   "cell_type": "code",
   "execution_count": 1,
   "id": "79a25755",
   "metadata": {},
   "outputs": [],
   "source": [
    "import os\n",
    "import itertools\n",
    "from types import SimpleNamespace\n",
    "import numpy\n",
    "import matplotlib.pyplot as pyplot\n",
    "from scipy.interpolate import make_interp_spline\n",
    "from shapely import geometry\n",
    "import LocalModule\n",
    "import boxkit"
   ]
  },
  {
   "cell_type": "code",
   "execution_count": 2,
   "id": "19fd7686",
   "metadata": {},
   "outputs": [],
   "source": [
    "DsetDirs, FileTags = LocalModule.case1_time_convergence_dict()\n",
    "Results = dict()\n",
    "for key in DsetDirs:\n",
    "    Datasets = LocalModule.read_datasets(DsetDirs[key], FileTags[key])\n",
    "    Results[key] = numpy.array([LocalModule.process_dataset(Dataset) for Dataset in Datasets])"
   ]
  },
  {
   "cell_type": "code",
   "execution_count": 3,
   "id": "b4c24d3f",
   "metadata": {},
   "outputs": [],
   "source": [
    "ErrorInf = {}\n",
    "ErrorL2 = {}\n",
    "ErrorL1 = {}\n",
    "\n",
    "ErrorInf[\"Case1/h40\"] = numpy.max(numpy.abs((Results[\"Case1/h320\"]-Results[\"Case1/h40\"])), axis=0)\n",
    "ErrorInf[\"Case1/h80\"] = numpy.max(numpy.abs((Results[\"Case1/h320\"]-Results[\"Case1/h80\"])), axis=0)\n",
    "ErrorInf[\"Case1/h160\"] = numpy.max(numpy.abs((Results[\"Case1/h320\"]-Results[\"Case1/h160\"])), axis=0)\n",
    "\n",
    "ErrorL2[\"Case1/h40\"] = numpy.sqrt(numpy.sum((Results[\"Case1/h320\"]-Results[\"Case1/h40\"])**2, axis=0))\n",
    "ErrorL2[\"Case1/h80\"] = numpy.sqrt(numpy.sum((Results[\"Case1/h320\"]-Results[\"Case1/h80\"])**2, axis=0))\n",
    "ErrorL2[\"Case1/h160\"] = numpy.sqrt(numpy.sum((Results[\"Case1/h320\"]-Results[\"Case1/h160\"])**2, axis=0))\n",
    "\n",
    "ErrorL1[\"Case1/h40\"] = numpy.sum(numpy.abs(Results[\"Case1/h320\"]-Results[\"Case1/h40\"]), axis=0)\n",
    "ErrorL1[\"Case1/h80\"] = numpy.sum(numpy.abs(Results[\"Case1/h320\"]-Results[\"Case1/h80\"]), axis=0)\n",
    "ErrorL1[\"Case1/h160\"] =numpy.sum(numpy.abs(Results[\"Case1/h320\"]-Results[\"Case1/h160\"]), axis=0)\n",
    "\n",
    "for key in ErrorInf:\n",
    "    ErrorInf[key] = ErrorInf[key]/numpy.max(numpy.abs(Results[\"Case1/h320\"]), axis=0)\n",
    "    ErrorL2[key] = ErrorL2[key]/numpy.sqrt(numpy.sum(Results[\"Case1/h320\"]**2, axis=0))\n",
    "    ErrorL1[key] = ErrorL1[key]/numpy.sum(numpy.abs(Results[\"Case1/h320\"]), axis=0)"
   ]
  },
  {
   "cell_type": "code",
   "execution_count": 4,
   "id": "720e9383",
   "metadata": {},
   "outputs": [
    {
     "name": "stdout",
     "output_type": "stream",
     "text": [
      "[2.         1.32853908 1.21575185 2.03029144 1.11011863]\n",
      "[ 2.          1.24567036  1.18901862  0.55078591 -0.01171224]\n"
     ]
    }
   ],
   "source": [
    "print(numpy.log(ErrorInf[\"Case1/h40\"]/ErrorInf[\"Case1/h80\"])/numpy.log(2))\n",
    "print(numpy.log(ErrorInf[\"Case1/h80\"]/ErrorInf[\"Case1/h160\"])/numpy.log(2))"
   ]
  },
  {
   "cell_type": "code",
   "execution_count": 5,
   "id": "53f1a4f5",
   "metadata": {},
   "outputs": [
    {
     "name": "stdout",
     "output_type": "stream",
     "text": [
      "[2.26897785 1.17623268 1.26170911 1.76932191 0.79749456]\n",
      "[2.19745784 1.5987934  1.36563523 0.30278047 0.09163416]\n"
     ]
    }
   ],
   "source": [
    "print(numpy.log(ErrorL2[\"Case1/h40\"]/ErrorL2[\"Case1/h80\"])/numpy.log(2))\n",
    "print(numpy.log(ErrorL2[\"Case1/h80\"]/ErrorL2[\"Case1/h160\"])/numpy.log(2))"
   ]
  },
  {
   "cell_type": "code",
   "execution_count": 6,
   "id": "78ce2f32",
   "metadata": {},
   "outputs": [
    {
     "name": "stdout",
     "output_type": "stream",
     "text": [
      "[2.42502159 1.1688714  1.22955597 1.67095129 0.63863662]\n",
      "[2.02217137 1.64175458 1.41151217 0.18364942 0.20439303]\n"
     ]
    }
   ],
   "source": [
    "print(numpy.log(ErrorL1[\"Case1/h40\"]/ErrorL1[\"Case1/h80\"])/numpy.log(2))\n",
    "print(numpy.log(ErrorL1[\"Case1/h80\"]/ErrorL1[\"Case1/h160\"])/numpy.log(2))"
   ]
  },
  {
   "cell_type": "code",
   "execution_count": 7,
   "id": "f6200400",
   "metadata": {},
   "outputs": [
    {
     "data": {
      "text/plain": [
       "{'Case1/h40': array([0.0007552 , 0.0538245 , 0.02604575, 0.00701264, 0.02550684]),\n",
       " 'Case1/h80': array([0.00014062, 0.02393947, 0.01110718, 0.00220229, 0.01638354]),\n",
       " 'Case1/h160': array([3.46196210e-05, 7.67179955e-03, 4.17538204e-03, 1.93905819e-03,\n",
       "        1.42193395e-02])}"
      ]
     },
     "execution_count": 7,
     "metadata": {},
     "output_type": "execute_result"
    }
   ],
   "source": [
    "ErrorL1"
   ]
  },
  {
   "cell_type": "code",
   "execution_count": 8,
   "id": "07b1ba3e",
   "metadata": {},
   "outputs": [
    {
     "data": {
      "text/plain": [
       "{'Case1/h40': array([0.0007421 , 0.06550703, 0.0340988 , 0.00882664, 0.03192088]),\n",
       " 'Case1/h80': array([0.00015397, 0.02898722, 0.01422089, 0.00258927, 0.0183656 ]),\n",
       " 'Case1/h160': array([3.35683159e-05, 9.57021767e-03, 5.51860861e-03, 2.09908752e-03,\n",
       "        1.72353630e-02])}"
      ]
     },
     "execution_count": 8,
     "metadata": {},
     "output_type": "execute_result"
    }
   ],
   "source": [
    "ErrorL2"
   ]
  },
  {
   "cell_type": "code",
   "execution_count": 9,
   "id": "f32a0fec",
   "metadata": {},
   "outputs": [
    {
     "data": {
      "text/plain": [
       "{'Case1/h40': array([0.0005    , 0.11964197, 0.08364873, 0.01549189, 0.06033204]),\n",
       " 'Case1/h80': array([0.000125  , 0.04763799, 0.03601485, 0.0037925 , 0.02794917]),\n",
       " 'Case1/h160': array([3.12497559e-05, 2.00895077e-02, 1.57961522e-02, 2.58894410e-03,\n",
       "        2.81769971e-02])}"
      ]
     },
     "execution_count": 9,
     "metadata": {},
     "output_type": "execute_result"
    }
   ],
   "source": [
    "ErrorInf"
   ]
  }
 ],
 "metadata": {
  "kernelspec": {
   "display_name": "Python 3 (ipykernel)",
   "language": "python",
   "name": "python3"
  },
  "language_info": {
   "codemirror_mode": {
    "name": "ipython",
    "version": 3
   },
   "file_extension": ".py",
   "mimetype": "text/x-python",
   "name": "python",
   "nbconvert_exporter": "python",
   "pygments_lexer": "ipython3",
   "version": "3.11.5"
  }
 },
 "nbformat": 4,
 "nbformat_minor": 5
}
