{
 "cells": [
  {
   "cell_type": "code",
   "execution_count": 1,
   "id": "79a25755",
   "metadata": {},
   "outputs": [],
   "source": [
    "import os\n",
    "import itertools\n",
    "from types import SimpleNamespace\n",
    "import numpy\n",
    "import matplotlib.pyplot as pyplot\n",
    "from scipy.interpolate import make_interp_spline\n",
    "from shapely import geometry\n",
    "import LocalModule\n",
    "import boxkit"
   ]
  },
  {
   "cell_type": "code",
   "execution_count": 2,
   "id": "19fd7686",
   "metadata": {},
   "outputs": [],
   "source": [
    "DsetDirs, FileTags = LocalModule.case1_time_convergence_dict()\n",
    "Results = dict()\n",
    "for key in DsetDirs:\n",
    "    Datasets = LocalModule.read_datasets(DsetDirs[key], FileTags[key])\n",
    "    Results[key] = numpy.array([LocalModule.process_dataset(Dataset) for Dataset in Datasets])"
   ]
  },
  {
   "cell_type": "code",
   "execution_count": 3,
   "id": "ec95ca9d",
   "metadata": {},
   "outputs": [
    {
     "data": {
      "text/plain": [
       "array([0.        , 0.1       , 0.20003906, 0.3       , 0.4       ,\n",
       "       0.5       , 0.6       , 0.70003906, 0.80003906, 0.90003906,\n",
       "       1.00003906, 1.10003906, 1.20003906, 1.30003906, 1.40003906,\n",
       "       1.50003906, 1.60003906, 1.70003906, 1.80003906, 1.90003906,\n",
       "       2.00003906, 2.10003906, 2.20003906, 2.30003906, 2.40003906,\n",
       "       2.50003906, 2.60003906, 2.70003906, 2.80003906, 2.90003906,\n",
       "       3.00003906, 3.10003906, 3.20003906, 3.30003906, 3.40003906,\n",
       "       3.50003906, 3.60003906, 3.70003906, 3.80003906, 3.90003906,\n",
       "       4.00003906, 4.10003906, 4.20003906, 4.30003906, 4.40003906,\n",
       "       4.50003906, 4.60003906, 4.70003906, 4.80003906, 4.90003906,\n",
       "       5.00003906])"
      ]
     },
     "execution_count": 3,
     "metadata": {},
     "output_type": "execute_result"
    }
   ],
   "source": [
    "Results[\"Case1/h320\"][:,0]"
   ]
  },
  {
   "cell_type": "code",
   "execution_count": 4,
   "id": "b4c24d3f",
   "metadata": {},
   "outputs": [],
   "source": [
    "ErrorInf = {}\n",
    "ErrorL2 = {}\n",
    "ErrorL1 = {}\n",
    "\n",
    "ErrorInf[\"Case1/h40\"] = numpy.max(numpy.abs((Results[\"Case1/h320\"]-Results[\"Case1/h40\"])), axis=0)\n",
    "ErrorInf[\"Case1/h80\"] = numpy.max(numpy.abs((Results[\"Case1/h320\"]-Results[\"Case1/h80\"])), axis=0)\n",
    "ErrorInf[\"Case1/h160\"] = numpy.max(numpy.abs((Results[\"Case1/h320\"]-Results[\"Case1/h160\"])), axis=0)\n",
    "\n",
    "ErrorL2[\"Case1/h40\"] = numpy.sqrt(numpy.sum((Results[\"Case1/h320\"]-Results[\"Case1/h40\"])**2, axis=0))\n",
    "ErrorL2[\"Case1/h80\"] = numpy.sqrt(numpy.sum((Results[\"Case1/h320\"]-Results[\"Case1/h80\"])**2, axis=0))\n",
    "ErrorL2[\"Case1/h160\"] = numpy.sqrt(numpy.sum((Results[\"Case1/h320\"]-Results[\"Case1/h160\"])**2, axis=0))\n",
    "\n",
    "ErrorL1[\"Case1/h40\"] = numpy.sum(numpy.abs(Results[\"Case1/h320\"]-Results[\"Case1/h40\"]), axis=0)\n",
    "ErrorL1[\"Case1/h80\"] = numpy.sum(numpy.abs(Results[\"Case1/h320\"]-Results[\"Case1/h80\"]), axis=0)\n",
    "ErrorL1[\"Case1/h160\"] =numpy.sum(numpy.abs(Results[\"Case1/h320\"]-Results[\"Case1/h160\"]), axis=0)"
   ]
  },
  {
   "cell_type": "code",
   "execution_count": 5,
   "id": "720e9383",
   "metadata": {},
   "outputs": [
    {
     "name": "stdout",
     "output_type": "stream",
     "text": [
      "[2.         1.32853908 1.21575185 2.03029144 1.11011863]\n",
      "[ 2.          1.24567036  1.18901862  0.55078591 -0.01171224]\n"
     ]
    }
   ],
   "source": [
    "print(numpy.log10(ErrorInf[\"Case1/h40\"]/ErrorInf[\"Case1/h80\"])/numpy.log10(2))\n",
    "print(numpy.log10(ErrorInf[\"Case1/h80\"]/ErrorInf[\"Case1/h160\"])/numpy.log10(2))"
   ]
  },
  {
   "cell_type": "code",
   "execution_count": 6,
   "id": "53f1a4f5",
   "metadata": {},
   "outputs": [
    {
     "name": "stdout",
     "output_type": "stream",
     "text": [
      "[2.26897785 1.17623268 1.26170911 1.76932191 0.79749456]\n",
      "[2.19745784 1.5987934  1.36563523 0.30278047 0.09163416]\n"
     ]
    }
   ],
   "source": [
    "print(numpy.log10(ErrorL2[\"Case1/h40\"]/ErrorL2[\"Case1/h80\"])/numpy.log10(2))\n",
    "print(numpy.log10(ErrorL2[\"Case1/h80\"]/ErrorL2[\"Case1/h160\"])/numpy.log10(2))"
   ]
  },
  {
   "cell_type": "code",
   "execution_count": 7,
   "id": "78ce2f32",
   "metadata": {},
   "outputs": [
    {
     "name": "stdout",
     "output_type": "stream",
     "text": [
      "[2.42502159 1.1688714  1.22955597 1.67095129 0.63863662]\n",
      "[2.02217137 1.64175458 1.41151217 0.18364942 0.20439303]\n"
     ]
    }
   ],
   "source": [
    "print(numpy.log10(ErrorL1[\"Case1/h40\"]/ErrorL1[\"Case1/h80\"])/numpy.log10(2))\n",
    "print(numpy.log10(ErrorL1[\"Case1/h80\"]/ErrorL1[\"Case1/h160\"])/numpy.log10(2))"
   ]
  }
 ],
 "metadata": {
  "kernelspec": {
   "display_name": "Python 3 (ipykernel)",
   "language": "python",
   "name": "python3"
  },
  "language_info": {
   "codemirror_mode": {
    "name": "ipython",
    "version": 3
   },
   "file_extension": ".py",
   "mimetype": "text/x-python",
   "name": "python",
   "nbconvert_exporter": "python",
   "pygments_lexer": "ipython3",
   "version": "3.11.5"
  }
 },
 "nbformat": 4,
 "nbformat_minor": 5
}
